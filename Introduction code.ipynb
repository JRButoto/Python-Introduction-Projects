{
 "cells": [
  {
   "cell_type": "code",
   "execution_count": 1,
   "id": "044822de",
   "metadata": {},
   "outputs": [],
   "source": [
    "n= 23\n",
    "n1 = 45"
   ]
  },
  {
   "cell_type": "code",
   "execution_count": 2,
   "id": "cdc7addb",
   "metadata": {},
   "outputs": [],
   "source": [
    "t = (n + n1 + n)"
   ]
  },
  {
   "cell_type": "code",
   "execution_count": 8,
   "id": "929488a6",
   "metadata": {},
   "outputs": [
    {
     "name": "stdout",
     "output_type": "stream",
     "text": [
      "182\n"
     ]
    }
   ],
   "source": [
    "print(t+t)"
   ]
  },
  {
   "cell_type": "code",
   "execution_count": 9,
   "id": "7e251b54",
   "metadata": {},
   "outputs": [
    {
     "name": "stdout",
     "output_type": "stream",
     "text": [
      "182\n"
     ]
    }
   ],
   "source": [
    "print(t+t)"
   ]
  },
  {
   "cell_type": "code",
   "execution_count": 11,
   "id": "5e530566",
   "metadata": {},
   "outputs": [
    {
     "data": {
      "text/plain": [
       "str"
      ]
     },
     "execution_count": 11,
     "metadata": {},
     "output_type": "execute_result"
    }
   ],
   "source": [
    "type(\"Hello word\")"
   ]
  },
  {
   "cell_type": "code",
   "execution_count": 12,
   "id": "d49e712d",
   "metadata": {},
   "outputs": [
    {
     "data": {
      "text/plain": [
       "True"
      ]
     },
     "execution_count": 12,
     "metadata": {},
     "output_type": "execute_result"
    }
   ],
   "source": [
    "isinstance(1,int)"
   ]
  },
  {
   "cell_type": "code",
   "execution_count": 13,
   "id": "59b259eb",
   "metadata": {},
   "outputs": [],
   "source": [
    "#this is a comment"
   ]
  },
  {
   "cell_type": "code",
   "execution_count": null,
   "id": "523a4022",
   "metadata": {},
   "outputs": [],
   "source": [
    "#cammel case\n",
    "#pascal case\n",
    "#snake case"
   ]
  },
  {
   "cell_type": "code",
   "execution_count": 14,
   "id": "9aa0900e",
   "metadata": {},
   "outputs": [],
   "source": [
    "#this is a comment\n",
    "#this is a second comment\n",
    "#this is a third comment"
   ]
  },
  {
   "cell_type": "code",
   "execution_count": 15,
   "id": "30bfcc5b",
   "metadata": {},
   "outputs": [
    {
     "name": "stdout",
     "output_type": "stream",
     "text": [
      "jbadsbajbs\\jdbsjbcs\n"
     ]
    }
   ],
   "source": [
    "print (\"jbadsbajbs\\jdbsjbcs\")"
   ]
  },
  {
   "cell_type": "code",
   "execution_count": 16,
   "id": "e529da5e",
   "metadata": {},
   "outputs": [
    {
     "name": "stdout",
     "output_type": "stream",
     "text": [
      "jbadsbajbs\\jdbsjbcs\n"
     ]
    }
   ],
   "source": [
    "print (\"jbadsbajbs\\\\jdbsjbcs\")"
   ]
  },
  {
   "cell_type": "code",
   "execution_count": 17,
   "id": "c19a1836",
   "metadata": {},
   "outputs": [
    {
     "name": "stdout",
     "output_type": "stream",
     "text": [
      "jbadsbajbs'jdbsjbcs\n"
     ]
    }
   ],
   "source": [
    "print (\"jbadsbajbs\\'jdbsjbcs\")"
   ]
  },
  {
   "cell_type": "code",
   "execution_count": 18,
   "id": "99e1c23a",
   "metadata": {},
   "outputs": [
    {
     "name": "stdout",
     "output_type": "stream",
     "text": [
      "jbadsbajbs\"jdbsjbcs\n"
     ]
    }
   ],
   "source": [
    "print (\"jbadsbajbs\\\"jdbsjbcs\")"
   ]
  },
  {
   "cell_type": "code",
   "execution_count": 19,
   "id": "c1946aae",
   "metadata": {},
   "outputs": [
    {
     "name": "stdout",
     "output_type": "stream",
     "text": [
      "jbadsbajbs\n",
      "jdbsjbcs\n"
     ]
    }
   ],
   "source": [
    "print (\"jbadsbajbs\\njdbsjbcs\")"
   ]
  },
  {
   "cell_type": "code",
   "execution_count": 20,
   "id": "23dfeec2",
   "metadata": {},
   "outputs": [
    {
     "name": "stdout",
     "output_type": "stream",
     "text": [
      "jbadsbajbs\tjdbsjbcs\n"
     ]
    }
   ],
   "source": [
    "print (\"jbadsbajbs\\tjdbsjbcs\")"
   ]
  },
  {
   "cell_type": "code",
   "execution_count": 22,
   "id": "14bf1d97",
   "metadata": {},
   "outputs": [
    {
     "name": "stdout",
     "output_type": "stream",
     "text": [
      "jbadsbajbsjdbsjbcs\n"
     ]
    }
   ],
   "source": [
    "print (\"jbadsbajbs\"\"jdbsjbcs\")"
   ]
  },
  {
   "cell_type": "code",
   "execution_count": 23,
   "id": "3392930a",
   "metadata": {},
   "outputs": [
    {
     "name": "stdout",
     "output_type": "stream",
     "text": [
      "absjbasjb\n",
      "jbsaknksan\n"
     ]
    }
   ],
   "source": [
    "#we can use single or double quotation fro strings\n",
    "print(\"absjbasjb\")\n",
    "print('jbsaknksan')"
   ]
  },
  {
   "cell_type": "code",
   "execution_count": 24,
   "id": "f246d149",
   "metadata": {},
   "outputs": [
    {
     "name": "stdout",
     "output_type": "stream",
     "text": [
      "jbadsbajbs'jdbsjbcs\n"
     ]
    }
   ],
   "source": [
    "print (\"jbadsbajbs'jdbsjbcs\")"
   ]
  },
  {
   "cell_type": "code",
   "execution_count": 27,
   "id": "b1089ec3",
   "metadata": {},
   "outputs": [
    {
     "name": "stdout",
     "output_type": "stream",
     "text": [
      "\f",
      "knksan\n",
      "sdnknklmds\n",
      "dnknkndvkl\n"
     ]
    }
   ],
   "source": [
    "#note********\n",
    "print(\"\"\"\\fknksan\n",
    "sdnknklmds\n",
    "dnknkndvkl\"\"\")"
   ]
  },
  {
   "cell_type": "code",
   "execution_count": 31,
   "id": "8c6b7949",
   "metadata": {},
   "outputs": [
    {
     "name": "stdout",
     "output_type": "stream",
     "text": [
      "cars = 100\n",
      "drivers = 30\n",
      "passengers= 90\n",
      "cars = 100 drivers = 30 passengers= 90\n"
     ]
    }
   ],
   "source": [
    "cars = 100\n",
    "drivers= 30\n",
    "passengers = 90\n",
    "print(\"cars =\" , cars)\n",
    "print(\"drivers =\" , drivers)\n",
    "print(\"passengers=\", passengers)\n",
    "print(\"cars =\", cars ,\"drivers =\" , drivers , \"passengers=\", passengers)"
   ]
  },
  {
   "cell_type": "code",
   "execution_count": 40,
   "id": "f6a20618",
   "metadata": {},
   "outputs": [
    {
     "name": "stdout",
     "output_type": "stream",
     "text": [
      "Hello\"word\n",
      "hello word\n"
     ]
    }
   ],
   "source": [
    "print(\"Hello\", end=\"\\\"\")\n",
    "print(\"word\")\n",
    "print(\"hello\", end =\" \")\n",
    "print (\"word\")"
   ]
  },
  {
   "cell_type": "code",
   "execution_count": 42,
   "id": "cd874fe5",
   "metadata": {},
   "outputs": [
    {
     "name": "stdout",
     "output_type": "stream",
     "text": [
      "hello 45\n"
     ]
    }
   ],
   "source": [
    "x = 45\n",
    "print(\"hello\" , x)"
   ]
  },
  {
   "cell_type": "code",
   "execution_count": 43,
   "id": "e791d7ad",
   "metadata": {},
   "outputs": [],
   "source": [
    "#you cant use + to concatinate different data types\n",
    "#but you can use \",\""
   ]
  },
  {
   "cell_type": "code",
   "execution_count": 46,
   "id": "d873c3bb",
   "metadata": {},
   "outputs": [
    {
     "name": "stdout",
     "output_type": "stream",
     "text": [
      "cars =100\n",
      "drivers =30\n",
      "passengers=90\n",
      "cars = 100 drivers = 30 passengers= 90\n"
     ]
    }
   ],
   "source": [
    "cars = 100\n",
    "drivers= 30\n",
    "passengers = 90\n",
    "print(\"cars =\" + str(cars))\n",
    "print(\"drivers =\" + str(drivers))\n",
    "print(\"passengers=\" + str(passengers))\n",
    "print(\"cars =\", cars ,\"drivers =\" , drivers , \"passengers=\", passengers)"
   ]
  },
  {
   "cell_type": "code",
   "execution_count": 47,
   "id": "ff0e4abf",
   "metadata": {},
   "outputs": [],
   "source": [
    "#Casting\n",
    "#str()\n",
    "#int()\n",
    "#float()"
   ]
  },
  {
   "cell_type": "code",
   "execution_count": 48,
   "id": "fb5d5c12",
   "metadata": {},
   "outputs": [],
   "source": [
    "#Arthmetic operations\n",
    "#+\n",
    "#-\n",
    "#*\n",
    "#/\n",
    "#**power\n",
    "#% reminder\n",
    "#//quotient "
   ]
  },
  {
   "cell_type": "code",
   "execution_count": 57,
   "id": "7578cb5a",
   "metadata": {},
   "outputs": [
    {
     "name": "stdout",
     "output_type": "stream",
     "text": [
      "16.0\n",
      "24.0\n"
     ]
    }
   ],
   "source": [
    "import math\n",
    "a= 4\n",
    "b= 13\n",
    "c= 15\n",
    "s= (a+b+c)/2\n",
    "A= math.sqrt(s*(s-a)*(s-b)*(s-c))\n",
    "print(s)\n",
    "print(A)\n"
   ]
  },
  {
   "cell_type": "code",
   "execution_count": 59,
   "id": "8219fddd",
   "metadata": {},
   "outputs": [],
   "source": [
    "import math"
   ]
  },
  {
   "cell_type": "code",
   "execution_count": 60,
   "id": "9946c1e0",
   "metadata": {},
   "outputs": [
    {
     "name": "stdout",
     "output_type": "stream",
     "text": [
      "16.0\n",
      "24.0\n"
     ]
    }
   ],
   "source": [
    "a=4\n",
    "b=13\n",
    "c=15\n",
    "s= (a+b+c)/2\n",
    "A= math.sqrt(s*(s-a)*(s-b)*(s-c))\n",
    "print(s)\n",
    "print(A)"
   ]
  },
  {
   "cell_type": "code",
   "execution_count": 64,
   "id": "41b9d61f",
   "metadata": {},
   "outputs": [
    {
     "name": "stdout",
     "output_type": "stream",
     "text": [
      "me\n"
     ]
    }
   ],
   "source": [
    "print(\"me\")"
   ]
  },
  {
   "cell_type": "code",
   "execution_count": 2,
   "id": "c5386b30",
   "metadata": {},
   "outputs": [
    {
     "name": "stdout",
     "output_type": "stream",
     "text": [
      "h\n",
      "h\n",
      "!\n",
      "!\n"
     ]
    }
   ],
   "source": [
    "#string indexing\n",
    "str1 = \"hello world!\"\n",
    "print (str1[0])\n",
    "print (str1[-12])\n",
    "print (str1[-1])\n",
    "print (str1[11])"
   ]
  },
  {
   "cell_type": "code",
   "execution_count": 3,
   "id": "b13675c9",
   "metadata": {},
   "outputs": [
    {
     "name": "stdout",
     "output_type": "stream",
     "text": [
      "hell\n"
     ]
    }
   ],
   "source": [
    "#range slicing\n",
    "print(str1[0:4])"
   ]
  },
  {
   "cell_type": "code",
   "execution_count": 4,
   "id": "4ac3383c",
   "metadata": {},
   "outputs": [
    {
     "name": "stdout",
     "output_type": "stream",
     "text": [
      "hell\n"
     ]
    }
   ],
   "source": [
    "print (str1[:4])"
   ]
  },
  {
   "cell_type": "code",
   "execution_count": 71,
   "id": "3090bdee",
   "metadata": {},
   "outputs": [
    {
     "name": "stdout",
     "output_type": "stream",
     "text": [
      "lo world!\n"
     ]
    }
   ],
   "source": [
    "print (str1[3:])"
   ]
  },
  {
   "cell_type": "code",
   "execution_count": 5,
   "id": "22a87118",
   "metadata": {},
   "outputs": [
    {
     "name": "stdout",
     "output_type": "stream",
     "text": [
      "hello world!\n",
      "hello world!\n",
      "!dlrow olleh\n"
     ]
    }
   ],
   "source": [
    "print (str1[0:12:1])#there are 11 indexes so 12 not included\n",
    "print (str1[0::])\n",
    "print (str1[::-1])"
   ]
  },
  {
   "cell_type": "markdown",
   "id": "c5581bd7",
   "metadata": {},
   "source": []
  },
  {
   "cell_type": "code",
   "execution_count": 87,
   "id": "44e70c3f",
   "metadata": {},
   "outputs": [
    {
     "data": {
      "text/plain": [
       "True"
      ]
     },
     "execution_count": 87,
     "metadata": {},
     "output_type": "execute_result"
    }
   ],
   "source": [
    "#membership operators\n",
    "#in\n",
    "#not in\n",
    "\"wo\"in str1"
   ]
  },
  {
   "cell_type": "code",
   "execution_count": 86,
   "id": "a2020998",
   "metadata": {},
   "outputs": [
    {
     "data": {
      "text/plain": [
       "False"
      ]
     },
     "execution_count": 86,
     "metadata": {},
     "output_type": "execute_result"
    }
   ],
   "source": [
    "\"Wo\"in str1"
   ]
  },
  {
   "cell_type": "code",
   "execution_count": 89,
   "id": "2d51c84d",
   "metadata": {},
   "outputs": [
    {
     "data": {
      "text/plain": [
       "'Hello world!'"
      ]
     },
     "execution_count": 89,
     "metadata": {},
     "output_type": "execute_result"
    }
   ],
   "source": [
    "#string methods\n",
    "str1.capitalize()"
   ]
  },
  {
   "cell_type": "code",
   "execution_count": 99,
   "id": "fe781ac0",
   "metadata": {},
   "outputs": [
    {
     "name": "stdout",
     "output_type": "stream",
     "text": [
      "my country is Tanzania\n",
      "my country is 21 and weight is Tanzania\n"
     ]
    }
   ],
   "source": [
    "#STRING FORMATTING***** what is the use\n",
    "#str.format\n",
    "#f-strings\n",
    "country= \"Tanzania\"\n",
    "print(\"my country is {}\".format(country,weight))\n",
    "print(\"my country is {1} and weight is {0}\".format(country,weight))"
   ]
  },
  {
   "cell_type": "code",
   "execution_count": 91,
   "id": "35aadf33",
   "metadata": {},
   "outputs": [
    {
     "name": "stdout",
     "output_type": "stream",
     "text": [
      "my country is Tanzania\n"
     ]
    }
   ],
   "source": [
    "print(\"my country is {0}\".format(country))"
   ]
  },
  {
   "cell_type": "code",
   "execution_count": 92,
   "id": "be98b135",
   "metadata": {},
   "outputs": [
    {
     "name": "stdout",
     "output_type": "stream",
     "text": [
      "my country is Tanzania and weight is 21\n"
     ]
    }
   ],
   "source": [
    "weight = 21\n",
    "print(\"my country is {0} and weight is {1}\".format(country,weight))"
   ]
  },
  {
   "cell_type": "code",
   "execution_count": 94,
   "id": "ed0e95be",
   "metadata": {},
   "outputs": [
    {
     "name": "stdout",
     "output_type": "stream",
     "text": [
      "my country is 21 and weight is Tanzania\n"
     ]
    }
   ],
   "source": [
    "print(\"my country is {1} and weight is {0}\".format(country,weight))"
   ]
  },
  {
   "cell_type": "code",
   "execution_count": 97,
   "id": "ddf7dbbc",
   "metadata": {},
   "outputs": [
    {
     "name": "stdout",
     "output_type": "stream",
     "text": [
      "my country is 21\n"
     ]
    }
   ],
   "source": [
    "print(\"my country is {}\".format(weight,country))#default is 0"
   ]
  },
  {
   "cell_type": "code",
   "execution_count": 98,
   "id": "24464c9d",
   "metadata": {},
   "outputs": [
    {
     "name": "stdout",
     "output_type": "stream",
     "text": [
      "my country is Tanzania and weight is 21\n"
     ]
    }
   ],
   "source": [
    "print(\"my country is {} and weight is {}\".format(country,weight))"
   ]
  },
  {
   "cell_type": "code",
   "execution_count": 102,
   "id": "6826abcc",
   "metadata": {},
   "outputs": [
    {
     "name": "stdout",
     "output_type": "stream",
     "text": [
      "my country is Tanzania and weight is  21\n"
     ]
    }
   ],
   "source": [
    "print(\"my country is {0:s} and weight is {1:3d}\".format(country,weight))#specifiers****************"
   ]
  },
  {
   "cell_type": "code",
   "execution_count": 103,
   "id": "43d1ea16",
   "metadata": {},
   "outputs": [
    {
     "name": "stdout",
     "output_type": "stream",
     "text": [
      "Value of number to 2 decimal places is 2324.77\n"
     ]
    }
   ],
   "source": [
    "number =2324.7689\n",
    "height = 1234\n",
    "print(\"Value of number to 2 decimal places is {:.2f}\".format(number))"
   ]
  },
  {
   "cell_type": "code",
   "execution_count": 104,
   "id": "530c82b5",
   "metadata": {},
   "outputs": [
    {
     "name": "stdout",
     "output_type": "stream",
     "text": [
      "8 width and 2 dp  2324.77\n"
     ]
    }
   ],
   "source": [
    "print (\"8 width and 2 dp {:8.2f}\".format(number))"
   ]
  },
  {
   "cell_type": "code",
   "execution_count": 105,
   "id": "37b827a4",
   "metadata": {},
   "outputs": [
    {
     "name": "stdout",
     "output_type": "stream",
     "text": [
      "exponetial and 2 dp 2.324769e+03\n"
     ]
    }
   ],
   "source": [
    "print (\"exponetial and 2 dp {:e}\".format(number))"
   ]
  },
  {
   "cell_type": "code",
   "execution_count": 107,
   "id": "da52692d",
   "metadata": {},
   "outputs": [
    {
     "name": "stdout",
     "output_type": "stream",
     "text": [
      "hexadecimal 4d2\n"
     ]
    }
   ],
   "source": [
    "print (\"hexadecimal {:x}\".format(height))"
   ]
  },
  {
   "cell_type": "code",
   "execution_count": 109,
   "id": "6ba1dcc7",
   "metadata": {},
   "outputs": [],
   "source": [
    "#fromat other symbols \n",
    "#,> etc"
   ]
  },
  {
   "cell_type": "code",
   "execution_count": 110,
   "id": "620a16ef",
   "metadata": {},
   "outputs": [
    {
     "name": "stdout",
     "output_type": "stream",
     "text": [
      "name is john\n"
     ]
    }
   ],
   "source": [
    "#f-strings format\n",
    "name= \"john\"\n",
    "print (f'name is {name}')"
   ]
  },
  {
   "cell_type": "code",
   "execution_count": 111,
   "id": "f3a6cf9a",
   "metadata": {},
   "outputs": [],
   "source": [
    "# {value + 2}"
   ]
  },
  {
   "cell_type": "code",
   "execution_count": 112,
   "id": "2e9f670d",
   "metadata": {},
   "outputs": [],
   "source": [
    "# interest_rate eg constants"
   ]
  },
  {
   "cell_type": "code",
   "execution_count": 116,
   "id": "33e367d4",
   "metadata": {},
   "outputs": [
    {
     "name": "stdout",
     "output_type": "stream",
     "text": [
      "Enter interger number 1123\n"
     ]
    }
   ],
   "source": [
    "#input from keyboard\n",
    "#varname = input(string_prompt)\n",
    "# eg num1 = int(input(\"Enter interger number 1\"))\n",
    "num1 = int(input(\"Enter interger number 1\"))"
   ]
  },
  {
   "cell_type": "code",
   "execution_count": 115,
   "id": "e5e6872a",
   "metadata": {},
   "outputs": [
    {
     "name": "stdout",
     "output_type": "stream",
     "text": [
      "Enter interger number 1233\n",
      "Enter interger number 22345\n",
      "sum of 233 and 2345 is 2578\n"
     ]
    }
   ],
   "source": [
    "num1 = int(input(\"Enter interger number 1\"))\n",
    "num2 = int(input(\"Enter interger number 2\"))\n",
    "print(\"sum of {} and {} is {}\".format(num1,num2,num1+num2))"
   ]
  },
  {
   "cell_type": "code",
   "execution_count": 117,
   "id": "73ded276",
   "metadata": {},
   "outputs": [],
   "source": [
    "#import math\n",
    "#import statistics as stat, average mean etc\n",
    "#assignment operators\n",
    "#=\n",
    "#+= c+=a c= c+a\n"
   ]
  },
  {
   "cell_type": "code",
   "execution_count": 120,
   "id": "efca0843",
   "metadata": {},
   "outputs": [
    {
     "name": "stdout",
     "output_type": "stream",
     "text": [
      "0\n"
     ]
    }
   ],
   "source": [
    "boolean = 0\n",
    "print (boolean)"
   ]
  },
  {
   "cell_type": "code",
   "execution_count": null,
   "id": "7324fa7c",
   "metadata": {},
   "outputs": [],
   "source": []
  }
 ],
 "metadata": {
  "kernelspec": {
   "display_name": "Python 3 (ipykernel)",
   "language": "python",
   "name": "python3"
  },
  "language_info": {
   "codemirror_mode": {
    "name": "ipython",
    "version": 3
   },
   "file_extension": ".py",
   "mimetype": "text/x-python",
   "name": "python",
   "nbconvert_exporter": "python",
   "pygments_lexer": "ipython3",
   "version": "3.10.9"
  }
 },
 "nbformat": 4,
 "nbformat_minor": 5
}
