{
 "cells": [
  {
   "cell_type": "markdown",
   "id": "cada2cda",
   "metadata": {},
   "source": [
    "# Assignment 01"
   ]
  },
  {
   "cell_type": "markdown",
   "id": "9f482acb",
   "metadata": {},
   "source": [
    "# Question 1"
   ]
  },
  {
   "cell_type": "markdown",
   "id": "c10ade7a",
   "metadata": {},
   "source": [
    "# (a)"
   ]
  },
  {
   "cell_type": "code",
   "execution_count": 1,
   "id": "7b30ab12",
   "metadata": {},
   "outputs": [
    {
     "name": "stdout",
     "output_type": "stream",
     "text": [
      "He said, \"John's program is easy to read\"\n"
     ]
    }
   ],
   "source": [
    "print(\"He said, \\\"John\\'s program is easy to read\\\"\")"
   ]
  },
  {
   "cell_type": "markdown",
   "id": "a9bd7ee6",
   "metadata": {},
   "source": [
    "# (b)"
   ]
  },
  {
   "cell_type": "code",
   "execution_count": null,
   "id": "a87f7a0e",
   "metadata": {},
   "outputs": [],
   "source": [
    "#The first step is to import the math library so that we can use it's methods in mathematical calculations.\n",
    "import math\n",
    "\n",
    "#Allowing the user to enter the length (r) in cm from the center of a pentagon to a vertex. \n",
    "r = float(input(\"Enter the length from the center to a vertex (r): \"))\n",
    "\n",
    "#assigning the value of pi to variable p \n",
    "p = math.pi\n",
    "\n",
    "#Calculation of the value (s) which is the Length of each side.\n",
    "s = 2*r*(math.sin(p/5))\n",
    "\n",
    "#Calculation of the the area of the pentagon\n",
    "Area = ((3*math.sqrt(3))/2)*s**2\n",
    "\n",
    "#Calculation of the sum of angles of the pentagon\n",
    "angleSum = math.degrees((3*p)/5)*5\n",
    "\n",
    "#displaying the length of each side (s)\n",
    "print(f\"Length of each side (s) is: {s:.2f} cm\")\n",
    "\n",
    "#displaying the area of the pentagon\n",
    "print(f\"The area of the pentagon is: {Area:.2f} cm^2\")\n",
    "\n",
    "#displaying the sum of angles\n",
    "print(f\"Sum of angles is: {angleSum:.1f} degrees\")\n"
   ]
  },
  {
   "cell_type": "markdown",
   "id": "4de1e750",
   "metadata": {},
   "source": [
    "### 1. (b)  (i) Test your program with following values of r=5.5cm"
   ]
  },
  {
   "cell_type": "code",
   "execution_count": 1,
   "id": "34e0dda7",
   "metadata": {},
   "outputs": [
    {
     "name": "stdout",
     "output_type": "stream",
     "text": [
      "Enter the length from the center to a vertex (r): 5.5\n",
      "Length of each side (s) is: 6.47 cm\n",
      "The area of the pentagon is: 108.61 cm^2\n",
      "Sum of angles is: 540.0 degrees\n"
     ]
    }
   ],
   "source": [
    "#The first step is to import the math library so that we can use it's methods in mathematical calculations.\n",
    "import math\n",
    "\n",
    "#Allowing the user to enter the length (r) in cm from the center of a pentagon to a vertex. \n",
    "r = float(input(\"Enter the length from the center to a vertex (r): \"))\n",
    "\n",
    "#assigning the value of pi to variable p \n",
    "p = math.pi\n",
    "\n",
    "#Calculation of the value (s) which is the Length of each side.\n",
    "s = 2*r*(math.sin(p/5))\n",
    "\n",
    "#Calculation of the the area of the pentagon\n",
    "Area = ((3*math.sqrt(3))/2)*s**2\n",
    "\n",
    "#Calculation of the sum of angles of the pentagon\n",
    "angleSum = math.degrees((3*p)/5)*5\n",
    "\n",
    "#displaying the length of each side (s)\n",
    "print(f\"Length of each side (s) is: {s:.2f} cm\")\n",
    "\n",
    "#displaying the area of the pentagon\n",
    "print(f\"The area of the pentagon is: {Area:.2f} cm^2\")\n",
    "\n",
    "#displaying the sum of angles\n",
    "print(f\"Sum of angles is: {angleSum:.1f} degrees\")\n"
   ]
  },
  {
   "cell_type": "markdown",
   "id": "932a728c",
   "metadata": {},
   "source": [
    "### 1. (b) (ii) Test your program with following values of r=13.45cm"
   ]
  },
  {
   "cell_type": "code",
   "execution_count": 9,
   "id": "8469d0f8",
   "metadata": {},
   "outputs": [
    {
     "name": "stdout",
     "output_type": "stream",
     "text": [
      "Enter the length from the center to a vertex (r): 13.45\n",
      "Length of each side (s) is: 15.81 cm\n",
      "The area of the pentagon is: 649.52 cm^2\n",
      "Sum of angles is: 540.0 degrees\n"
     ]
    }
   ],
   "source": [
    "#The first step is to import the math library so that we can use it's methods in mathematical calculations.\n",
    "import math\n",
    "\n",
    "#Allowing the user to enter the length (r) in cm from the center of a pentagon to a vertex. \n",
    "r = float(input(\"Enter the length from the center to a vertex (r): \"))\n",
    "\n",
    "#assigning the value of pi to variable p \n",
    "p = math.pi\n",
    "\n",
    "#Calculation of the value (s) which is the Length of each side.\n",
    "s = 2*r*(math.sin(p/5))\n",
    "\n",
    "#Calculation of the the area of the pentagon\n",
    "Area = ((3*math.sqrt(3))/2)*s**2\n",
    "\n",
    "#Calculation of the sum of angles of the pentagon\n",
    "angleSum = math.degrees((3*p)/5)*5\n",
    "\n",
    "#displaying the length of each side (s)\n",
    "print(f\"Length of each side (s) is: {s:.2f} cm\")\n",
    "\n",
    "#displaying the area of the pentagon\n",
    "print(f\"The area of the pentagon is: {Area:.2f} cm^2\")\n",
    "\n",
    "#displaying the sum of angles\n",
    "print(f\"Sum of angles is: {angleSum:.1f} degrees\")\n"
   ]
  },
  {
   "cell_type": "markdown",
   "id": "dc6316e3",
   "metadata": {},
   "source": [
    "# (c)"
   ]
  },
  {
   "cell_type": "code",
   "execution_count": null,
   "id": "d460c6a1",
   "metadata": {},
   "outputs": [],
   "source": [
    "#Allowing the user to input a number\n",
    "str1 = input(\"Enter an integer: \")\n",
    "\n",
    "#assigning the reversed number to a variable reversedString\n",
    "reversedString = str1[::-1]\n",
    "\n",
    "#displaying the reversed number\n",
    "print(f\"The reversed number is: {reversedString}\")"
   ]
  },
  {
   "cell_type": "markdown",
   "id": "cb8d8025",
   "metadata": {},
   "source": [
    "### 1. (c) (i) Test your program with following values 3125"
   ]
  },
  {
   "cell_type": "code",
   "execution_count": 41,
   "id": "d3bd83b4",
   "metadata": {},
   "outputs": [
    {
     "name": "stdout",
     "output_type": "stream",
     "text": [
      "Enter an integer: 3125\n",
      "The reversed number is: 5213\n"
     ]
    }
   ],
   "source": [
    "#Allowing the user to input a number\n",
    "str1 = input(\"Enter an integer: \")\n",
    "\n",
    "#assigning the reversed number to a variable reversedString\n",
    "reversedString = str1[::-1]\n",
    "\n",
    "#displaying the reversed number\n",
    "print(f\"The reversed number is: {reversedString}\")"
   ]
  },
  {
   "cell_type": "markdown",
   "id": "644c092f",
   "metadata": {},
   "source": [
    "### 1. (c) (ii) Test your program with following values 648923"
   ]
  },
  {
   "cell_type": "code",
   "execution_count": 42,
   "id": "7884285b",
   "metadata": {},
   "outputs": [
    {
     "name": "stdout",
     "output_type": "stream",
     "text": [
      "Enter an integer: 648923\n",
      "The reversed number is: 329846\n"
     ]
    }
   ],
   "source": [
    "#Allowing the user to input a number\n",
    "str1 = input(\"Enter an integer: \")\n",
    "\n",
    "#assigning the reversed number to a variable reversedString\n",
    "reversedString = str1[::-1]\n",
    "\n",
    "#displaying the reversed number\n",
    "print(f\"The reversed number is: {reversedString}\")"
   ]
  },
  {
   "cell_type": "markdown",
   "id": "ed95a7c5",
   "metadata": {},
   "source": [
    "# Question 02"
   ]
  },
  {
   "cell_type": "code",
   "execution_count": null,
   "id": "96eb174e",
   "metadata": {},
   "outputs": [],
   "source": [
    "str4 =\"Firstname MiddleName Surname RegNo Sex\"\n",
    "str ='Tumaini Hamis Kimario 2016-06-56789 M'\n",
    "\n",
    "#(a) displaying the value of the string str\n",
    "print(\"The value of str is: \",str.title())\n",
    "\n",
    "#(b) Display the particulars in the following format.\n",
    "first_space = str.find(\" \")\n",
    "second_space = str.find(\" \", first_space+1)\n",
    "third_space = str.find(\" \", second_space+1)\n",
    "fourth_space = str.find(\" \", third_space+1)\n",
    "\n",
    "print(f\"Firstname: {str[:first_space].capitalize()}\")\n",
    "print(f\"Midddle name: {str[first_space+1:second_space].capitalize()}\")\n",
    "print(f\"Surnmae: {str[second_space+1:third_space].capitalize()}\")\n",
    "print(f\"Reg. No.: {str[third_space+1:fourth_space]}\")\n",
    "print(f\"Sex: {str[fourth_space+1:].capitalize()}\")\n",
    "\n",
    "#(c)  Display the fullname starting with surname in capital letters followed by comma followed by initials.\n",
    "print(f\"Fullname is: {str[second_space+1:third_space].upper()}, {str[0].upper()}.{str[first_space+1].upper()}.\")\n",
    "\n",
    "#(d) Display the word True if the student is Male otherwise display False. \n",
    "#Display the word True if the student is Female otherwise display False.\n",
    "str[fourth_space+1:].startswith(('M','m','F','f'))"
   ]
  },
  {
   "cell_type": "markdown",
   "id": "d9ff83f5",
   "metadata": {},
   "source": [
    "### 2.(i) str='Tumaini Hamis Kimario 2016-06-56789 M' "
   ]
  },
  {
   "cell_type": "markdown",
   "id": "627b1086",
   "metadata": {},
   "source": [
    "### (a)"
   ]
  },
  {
   "cell_type": "code",
   "execution_count": 64,
   "id": "1b38bab8",
   "metadata": {},
   "outputs": [
    {
     "name": "stdout",
     "output_type": "stream",
     "text": [
      "The value of str is:  Tumaini Hamis Kimario 2016-06-56789 M\n"
     ]
    }
   ],
   "source": [
    "#(a) displaying the value of the string str\n",
    "str=\"Tumaini Hamis Kimario 2016-06-56789 M\" \n",
    "\n",
    "print(\"The value of str is: \",str.title())"
   ]
  },
  {
   "cell_type": "markdown",
   "id": "c6a378a7",
   "metadata": {},
   "source": [
    "### (b)"
   ]
  },
  {
   "cell_type": "code",
   "execution_count": 63,
   "id": "9a11ef81",
   "metadata": {},
   "outputs": [
    {
     "name": "stdout",
     "output_type": "stream",
     "text": [
      "Firstname: Tumaini\n",
      "Midddle name: Hamis\n",
      "Surnmae: Kimario\n",
      "Reg. No.: 2016-06-56789\n",
      "Sex: M\n"
     ]
    }
   ],
   "source": [
    "#(b) Display the particulars in the following format.\n",
    "first_space = str.find(\" \")\n",
    "second_space = str.find(\" \", first_space+1)\n",
    "third_space = str.find(\" \", second_space+1)\n",
    "fourth_space = str.find(\" \", third_space+1)\n",
    "\n",
    "print(f\"Firstname: {str[:first_space].capitalize()}\")\n",
    "print(f\"Midddle name: {str[first_space+1:second_space].capitalize()}\")\n",
    "print(f\"Surnmae: {str[second_space+1:third_space].capitalize()}\")\n",
    "print(f\"Reg. No.: {str[third_space+1:fourth_space]}\")\n",
    "print(f\"Sex: {str[fourth_space+1:].capitalize()}\")"
   ]
  },
  {
   "cell_type": "markdown",
   "id": "5d919584",
   "metadata": {},
   "source": [
    "### (c)"
   ]
  },
  {
   "cell_type": "code",
   "execution_count": 65,
   "id": "d0881192",
   "metadata": {},
   "outputs": [
    {
     "name": "stdout",
     "output_type": "stream",
     "text": [
      "Fullname is: KIMARIO, T.H.\n"
     ]
    }
   ],
   "source": [
    "#(c)  Display the fullname starting with surname in capital letters followed by comma followed by initials.\n",
    "print(f\"Fullname is: {str[second_space+1:third_space].upper()}, {str[0].upper()}.{str[first_space+1].upper()}.\")"
   ]
  },
  {
   "cell_type": "markdown",
   "id": "9ccd2ffe",
   "metadata": {},
   "source": [
    "### (d)"
   ]
  },
  {
   "cell_type": "code",
   "execution_count": 66,
   "id": "faf4cae5",
   "metadata": {},
   "outputs": [
    {
     "data": {
      "text/plain": [
       "True"
      ]
     },
     "execution_count": 66,
     "metadata": {},
     "output_type": "execute_result"
    }
   ],
   "source": [
    "#(d) Display the word True if the student is Male otherwise display False. \n",
    "#Display the word True if the student is Female otherwise display False.\n",
    "str[fourth_space+1:].startswith(('M','m','F','f'))"
   ]
  },
  {
   "cell_type": "markdown",
   "id": "4cf122f0",
   "metadata": {},
   "source": [
    "### 2.(ii) str='Lyimo Lucy Kokushubira 2021-06-07868 F'  "
   ]
  },
  {
   "cell_type": "markdown",
   "id": "ccfec2f7",
   "metadata": {},
   "source": [
    "### (a)"
   ]
  },
  {
   "cell_type": "code",
   "execution_count": 69,
   "id": "e8a13f6a",
   "metadata": {},
   "outputs": [
    {
     "name": "stdout",
     "output_type": "stream",
     "text": [
      "The value of str is:  Lyimo Lucy Kokushubira 2021-06-07868 F\n"
     ]
    }
   ],
   "source": [
    "#(a) displaying the value of the string str\n",
    "str5=\"Lyimo Lucy Kokushubira 2021-06-07868 F\" \n",
    "\n",
    "print(\"The value of str is: \",str5.title())"
   ]
  },
  {
   "cell_type": "markdown",
   "id": "1a794131",
   "metadata": {},
   "source": [
    "### (b)"
   ]
  },
  {
   "cell_type": "code",
   "execution_count": 77,
   "id": "2658e8c7",
   "metadata": {},
   "outputs": [
    {
     "name": "stdout",
     "output_type": "stream",
     "text": [
      "Firstname: Lyimo\n",
      "Midddle name: Lucy\n",
      "Surnmae: Kokushubira\n",
      "Reg. No.: 2021-06-07868\n",
      "Sex: F\n"
     ]
    }
   ],
   "source": [
    "#(b) Display the particulars in the following format.\n",
    "first_space = str5.find(\" \")\n",
    "second_space = str5.find(\" \", first_space+1)\n",
    "third_space = str5.find(\" \", second_space+1)\n",
    "fourth_space = str5.find(\" \", third_space+1)\n",
    "\n",
    "print(f\"Firstname: {str5[:first_space].capitalize()}\")\n",
    "print(f\"Midddle name: {str5[first_space+1:second_space].capitalize()}\")\n",
    "print(f\"Surnmae: {str5[second_space+1:third_space].capitalize()}\")\n",
    "print(f\"Reg. No.: {str5[third_space+1:fourth_space]}\")\n",
    "print(f\"Sex: {str5[fourth_space+1:].capitalzie()}\")"
   ]
  },
  {
   "cell_type": "markdown",
   "id": "bd77f37e",
   "metadata": {},
   "source": [
    "### (c)"
   ]
  },
  {
   "cell_type": "code",
   "execution_count": 71,
   "id": "1da1ae8b",
   "metadata": {},
   "outputs": [
    {
     "name": "stdout",
     "output_type": "stream",
     "text": [
      "Fullname is: KOKUSHUBIRA, L.L.\n"
     ]
    }
   ],
   "source": [
    "#(c)  Display the fullname starting with surname in capital letters followed by comma followed by initials.\n",
    "print(f\"Fullname is: {str5[second_space+1:third_space].upper()}, {str5[0].upper()}.{str5[first_space+1].upper()}.\")"
   ]
  },
  {
   "cell_type": "markdown",
   "id": "6255655e",
   "metadata": {},
   "source": [
    "### (d)"
   ]
  },
  {
   "cell_type": "code",
   "execution_count": 72,
   "id": "83ce91fe",
   "metadata": {},
   "outputs": [
    {
     "data": {
      "text/plain": [
       "True"
      ]
     },
     "execution_count": 72,
     "metadata": {},
     "output_type": "execute_result"
    }
   ],
   "source": [
    "#(d) Display the word True if the student is Male otherwise display False. \n",
    "#Display the word True if the student is Female otherwise display False.\n",
    "str5[fourth_space+1:].startswith(('M','m','F','f'))"
   ]
  },
  {
   "cell_type": "markdown",
   "id": "44e18fe5",
   "metadata": {},
   "source": [
    "### 2.(iii) str='baraka KImario GeORge 2021-06-09789 m' "
   ]
  },
  {
   "cell_type": "markdown",
   "id": "fac0af75",
   "metadata": {},
   "source": [
    "### (a)"
   ]
  },
  {
   "cell_type": "code",
   "execution_count": 81,
   "id": "6748abf9",
   "metadata": {},
   "outputs": [
    {
     "name": "stdout",
     "output_type": "stream",
     "text": [
      "The value of str is: Baraka Kimario George 2021-06-09789 M\n"
     ]
    }
   ],
   "source": [
    "#(a) displaying the value of the string str\n",
    "str6=\"baraka KImario GeORge 2021-06-09789 m\" \n",
    "\n",
    "print(f\"The value of str is: {str6.title()}\")"
   ]
  },
  {
   "cell_type": "markdown",
   "id": "97e12e1c",
   "metadata": {},
   "source": [
    "### (b)"
   ]
  },
  {
   "cell_type": "code",
   "execution_count": 82,
   "id": "ea5602bf",
   "metadata": {},
   "outputs": [
    {
     "name": "stdout",
     "output_type": "stream",
     "text": [
      "Firstname: Baraka\n",
      "Midddle name: Kimario\n",
      "Surnmae: George\n",
      "Reg. No.: 2021-06-09789\n",
      "Sex: M\n"
     ]
    }
   ],
   "source": [
    "#(b) Display the particulars in the following format.\n",
    "first_space = str6.find(\" \")\n",
    "second_space = str6.find(\" \", first_space+1)\n",
    "third_space = str6.find(\" \", second_space+1)\n",
    "fourth_space = str6.find(\" \", third_space+1)\n",
    "\n",
    "print(f\"Firstname: {str6[:first_space].capitalize()}\")\n",
    "print(f\"Midddle name: {str6[first_space+1:second_space].capitalize()}\")\n",
    "print(f\"Surnmae: {str6[second_space+1:third_space].capitalize()}\")\n",
    "print(f\"Reg. No.: {str6[third_space+1:fourth_space]}\")\n",
    "print(f\"Sex: {str6[fourth_space+1:].capitalize()}\")"
   ]
  },
  {
   "cell_type": "markdown",
   "id": "6e5a68ff",
   "metadata": {},
   "source": [
    "### (c)"
   ]
  },
  {
   "cell_type": "code",
   "execution_count": 83,
   "id": "eea9854c",
   "metadata": {},
   "outputs": [
    {
     "name": "stdout",
     "output_type": "stream",
     "text": [
      "Fullname is: GEORGE, B.K.\n"
     ]
    }
   ],
   "source": [
    "#(c)  Display the fullname starting with surname in capital letters followed by comma followed by initials.\n",
    "print(f\"Fullname is: {str6[second_space+1:third_space].upper()}, {str6[0].upper()}.{str6[first_space+1].upper()}.\")"
   ]
  },
  {
   "cell_type": "markdown",
   "id": "bf30078c",
   "metadata": {},
   "source": [
    "### (d)"
   ]
  },
  {
   "cell_type": "code",
   "execution_count": 87,
   "id": "98e4d3e3",
   "metadata": {},
   "outputs": [
    {
     "data": {
      "text/plain": [
       "True"
      ]
     },
     "execution_count": 87,
     "metadata": {},
     "output_type": "execute_result"
    }
   ],
   "source": [
    "#(d) Display the word True if the student is Male otherwise display False. \n",
    "#Display the word True if the student is Female otherwise display False.\n",
    "str6[fourth_space+1:].startswith(('M','m','F','f'))"
   ]
  },
  {
   "cell_type": "markdown",
   "id": "ef2cd2f7",
   "metadata": {},
   "source": [
    "### 2.(iv) str='mwakanemeLE Jacqueline mmbaga 2021-06-56789 f'"
   ]
  },
  {
   "cell_type": "markdown",
   "id": "1c7d7151",
   "metadata": {},
   "source": [
    "### (a)"
   ]
  },
  {
   "cell_type": "code",
   "execution_count": 88,
   "id": "4d9e77ea",
   "metadata": {},
   "outputs": [
    {
     "name": "stdout",
     "output_type": "stream",
     "text": [
      "The value of str is: Mwakanemele Jacqueline Mmbaga 2021-06-56789 F\n"
     ]
    }
   ],
   "source": [
    "#(a) displaying the value of the string str\n",
    "str7=\"mwakanemeLE Jacqueline mmbaga 2021-06-56789 f\" \n",
    "\n",
    "print(f\"The value of str is: {str7.title()}\")"
   ]
  },
  {
   "cell_type": "markdown",
   "id": "db543ed1",
   "metadata": {},
   "source": [
    "### (b)"
   ]
  },
  {
   "cell_type": "code",
   "execution_count": 89,
   "id": "46ac1017",
   "metadata": {},
   "outputs": [
    {
     "name": "stdout",
     "output_type": "stream",
     "text": [
      "Firstname: Mwakanemele\n",
      "Midddle name: Jacqueline\n",
      "Surnmae: Mmbaga\n",
      "Reg. No.: 2021-06-56789\n",
      "Sex: F\n"
     ]
    }
   ],
   "source": [
    "#(b) Display the particulars in the following format.\n",
    "first_space = str7.find(\" \")\n",
    "second_space = str7.find(\" \", first_space+1)\n",
    "third_space = str7.find(\" \", second_space+1)\n",
    "fourth_space = str7.find(\" \", third_space+1)\n",
    "\n",
    "print(f\"Firstname: {str7[:first_space].capitalize()}\")\n",
    "print(f\"Midddle name: {str7[first_space+1:second_space].capitalize()}\")\n",
    "print(f\"Surnmae: {str7[second_space+1:third_space].capitalize()}\")\n",
    "print(f\"Reg. No.: {str7[third_space+1:fourth_space]}\")\n",
    "print(f\"Sex: {str7[fourth_space+1:].capitalize()}\")"
   ]
  },
  {
   "cell_type": "markdown",
   "id": "512fb2a7",
   "metadata": {},
   "source": [
    "### (c)"
   ]
  },
  {
   "cell_type": "code",
   "execution_count": 90,
   "id": "12a12037",
   "metadata": {},
   "outputs": [
    {
     "name": "stdout",
     "output_type": "stream",
     "text": [
      "Fullname is: MMBAGA, M.J.\n"
     ]
    }
   ],
   "source": [
    "#(c)  Display the fullname starting with surname in capital letters followed by comma followed by initials.\n",
    "print(f\"Fullname is: {str7[second_space+1:third_space].upper()}, {str7[0].upper()}.{str7[first_space+1].upper()}.\")"
   ]
  },
  {
   "cell_type": "markdown",
   "id": "3dfe1653",
   "metadata": {},
   "source": [
    "### (d)"
   ]
  },
  {
   "cell_type": "code",
   "execution_count": 91,
   "id": "58cbfa88",
   "metadata": {},
   "outputs": [
    {
     "data": {
      "text/plain": [
       "True"
      ]
     },
     "execution_count": 91,
     "metadata": {},
     "output_type": "execute_result"
    }
   ],
   "source": [
    "#(d) Display the word True if the student is Male otherwise display False. \n",
    "#Display the word True if the student is Female otherwise display False.\n",
    "str7[fourth_space+1:].startswith(('M','m','F','f'))"
   ]
  },
  {
   "cell_type": "markdown",
   "id": "a9be7e92",
   "metadata": {},
   "source": [
    "# Question 03"
   ]
  },
  {
   "cell_type": "markdown",
   "id": "30af52dd",
   "metadata": {},
   "source": [
    "# (a)"
   ]
  },
  {
   "cell_type": "code",
   "execution_count": 17,
   "id": "403f04db",
   "metadata": {},
   "outputs": [
    {
     "name": "stdout",
     "output_type": "stream",
     "text": [
      "The value of G is : 0.683 \n"
     ]
    }
   ],
   "source": [
    "#Initializing the values used to find the value of G\n",
    "R = 25\n",
    "C = 19*10**-4 \n",
    "L = 4*10**-4\n",
    "E = 20 \n",
    "W = 5.5\n",
    "P = math.pi\n",
    "\n",
    "#Calculating the value of G\n",
    "G = E/math.sqrt((R**2) + ((2*P*W*L)-(1/(2*P*W*C)))**2)\n",
    "\n",
    "#Displaying the value of G\n",
    "print(f\"The value of G is : {G:.3f} \")"
   ]
  },
  {
   "cell_type": "markdown",
   "id": "d3518c73",
   "metadata": {},
   "source": [
    "# (b)"
   ]
  },
  {
   "cell_type": "code",
   "execution_count": 19,
   "id": "4193c345",
   "metadata": {},
   "outputs": [
    {
     "name": "stdout",
     "output_type": "stream",
     "text": [
      "The value of m is: 0.81941\n"
     ]
    }
   ],
   "source": [
    "#Initializing the values used to find m\n",
    "a = 5.6    \n",
    "b = 6.5\n",
    "x = 12.78\n",
    "y = 12.2\n",
    "\n",
    "m = math.sqrt((a + (3*math.pow(b,(1/3))))/(x + math.sqrt(3+y)))\n",
    "print (f\"The value of m is: {m:.5f}\")"
   ]
  }
 ],
 "metadata": {
  "kernelspec": {
   "display_name": "Python 3 (ipykernel)",
   "language": "python",
   "name": "python3"
  },
  "language_info": {
   "codemirror_mode": {
    "name": "ipython",
    "version": 3
   },
   "file_extension": ".py",
   "mimetype": "text/x-python",
   "name": "python",
   "nbconvert_exporter": "python",
   "pygments_lexer": "ipython3",
   "version": "3.10.9"
  }
 },
 "nbformat": 4,
 "nbformat_minor": 5
}
